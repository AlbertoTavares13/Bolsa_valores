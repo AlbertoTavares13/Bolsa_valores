{
  "nbformat": 4,
  "nbformat_minor": 0,
  "metadata": {
    "kernelspec": {
      "display_name": "Python 3",
      "language": "python",
      "name": "python3"
    },
    "language_info": {
      "codemirror_mode": {
        "name": "ipython",
        "version": 3
      },
      "file_extension": ".py",
      "mimetype": "text/x-python",
      "name": "python",
      "nbconvert_exporter": "python",
      "pygments_lexer": "ipython3",
      "version": "3.7.4"
    },
    "colab": {
      "name": "Analise_reclamacoes.ipynb",
      "provenance": [],
      "collapsed_sections": [],
      "include_colab_link": true
    }
  },
  "cells": [
    {
      "cell_type": "markdown",
      "metadata": {
        "id": "view-in-github",
        "colab_type": "text"
      },
      "source": [
        "<a href=\"https://colab.research.google.com/github/AlbertoTavares13/Bolsa_valores/blob/main/Analise_reclamacoes.ipynb\" target=\"_parent\"><img src=\"https://colab.research.google.com/assets/colab-badge.svg\" alt=\"Open In Colab\"/></a>"
      ]
    },
    {
      "cell_type": "markdown",
      "metadata": {
        "id": "9ylI849Dy8GL"
      },
      "source": [
        "# Trabalho Disciplina BI 2, Tópicos avançados\n",
        "\n",
        "# Prof.: Leonardo Mendoza\n",
        "# Alunos: Alberto Tavares e Robson Guimarães\n",
        "\n",
        "# Criação de nuvens de palavras (por Estado, Serviço e Empresa) a partir de base de dados de reclamações."
      ]
    },
    {
      "cell_type": "markdown",
      "metadata": {
        "id": "ZsSUUpB-y8GM"
      },
      "source": [
        "### Importa bibliotecas"
      ]
    },
    {
      "cell_type": "code",
      "metadata": {
        "id": "JoZrsHCky8Gk"
      },
      "source": [
        "import nltk\n",
        "import pandas as pd\n",
        "import os\n",
        "import numpy as np\n",
        "import string\n",
        "from wordcloud import WordCloud, STOPWORDS, ImageColorGenerator\n",
        "import matplotlib.cm as cm\n",
        "import matplotlib.pyplot as plt\n",
        "import seaborn as sns\n",
        "\n",
        "from PIL import Image\n",
        "\n",
        "%matplotlib inline"
      ],
      "execution_count": null,
      "outputs": []
    },
    {
      "cell_type": "markdown",
      "metadata": {
        "id": "imkxOzDBy8Gt"
      },
      "source": [
        "### Leitura da base de reclamações"
      ]
    },
    {
      "cell_type": "code",
      "metadata": {
        "id": "_RpZ4xTqy8Gu"
      },
      "source": [
        "data = pd.read_csv('base reclamações (2).csv',encoding='windows-1252',sep =';')\n",
        "# verificação visual das 5 ultimas linhas\n",
        "data.tail()"
      ],
      "execution_count": null,
      "outputs": []
    },
    {
      "cell_type": "markdown",
      "metadata": {
        "id": "QkZaYSP4y8Gz"
      },
      "source": [
        "### Quantidade de linhas e de colunas do dataframe lido"
      ]
    },
    {
      "cell_type": "code",
      "metadata": {
        "id": "RcWZQZBLy8Gz"
      },
      "source": [
        "data.shape"
      ],
      "execution_count": null,
      "outputs": []
    },
    {
      "cell_type": "markdown",
      "metadata": {
        "id": "Qmj7sVuiy8G6"
      },
      "source": [
        "### Localização das colunas com valores \"null\""
      ]
    },
    {
      "cell_type": "code",
      "metadata": {
        "id": "HI25pp6ry8G7"
      },
      "source": [
        "data.isnull().sum()"
      ],
      "execution_count": null,
      "outputs": []
    },
    {
      "cell_type": "markdown",
      "metadata": {
        "id": "9a57uy_Lc4Yg"
      },
      "source": [
        "# Verificar as reclamações por estado"
      ]
    },
    {
      "cell_type": "code",
      "metadata": {
        "id": "LP3ZNb9u5z_4"
      },
      "source": [
        "data.groupby(\"estado\").size().sort_values(ascending=False)"
      ],
      "execution_count": null,
      "outputs": []
    },
    {
      "cell_type": "code",
      "metadata": {
        "id": "EWlwvWxZcK0K"
      },
      "source": [
        "data.groupby(\"estado\").size().sort_values(ascending=False)[:].plot(figsize=(10,10),kind='bar')"
      ],
      "execution_count": null,
      "outputs": []
    },
    {
      "cell_type": "markdown",
      "metadata": {
        "id": "nqvIQM15jO1y"
      },
      "source": [
        "# Nuvem de palavras com as reclamações por Estado"
      ]
    },
    {
      "cell_type": "code",
      "metadata": {
        "id": "2_dqLWMC6ke9"
      },
      "source": [
        "# Criação de dataframe com a coluna Estado\n",
        "df_estado = pd.DataFrame()\n",
        "df_estado['estado'] = data['estado']"
      ],
      "execution_count": null,
      "outputs": []
    },
    {
      "cell_type": "code",
      "metadata": {
        "id": "9l0ZrHow7uE6"
      },
      "source": [
        "# Criação de uma string única com todas as ocorrências dos estados\n",
        "string_estados = \" \".join(text for text in df_estado.estado)"
      ],
      "execution_count": null,
      "outputs": []
    },
    {
      "cell_type": "code",
      "metadata": {
        "id": "B0dVtKsk7_fQ"
      },
      "source": [
        "# Importação da imagem a ser usada na Nuvem de Palavras\n",
        "Diretorio_arquivo = \"/content/BandeiraBrasil.png\"\n",
        "Estado_mask = np.array(Image.open(Diretorio_arquivo))"
      ],
      "execution_count": null,
      "outputs": []
    },
    {
      "cell_type": "code",
      "metadata": {
        "id": "oc0bK6TE8vOd"
      },
      "source": [
        "# Geração da Nuvem de Palavras por Estado\n",
        "wordcloud_estados = WordCloud(background_color=\"white\",collocations=False,\n",
        "                              #colormap=\"Oranges_r\",\n",
        "                       #       colormap=\"RdYlGn\",\n",
        "                              width = 4000,\n",
        "                              height = 3000,\n",
        "                              max_font_size=1000,\n",
        "                              max_words=400\n",
        "                               ,mask=Estado_mask\n",
        "                             ,contour_color='#5d0f24'\n",
        "                             ,contour_width=1\n",
        "                              ).generate(string_estados)\n",
        "plt.figure(figsize = (15,10),\n",
        "           facecolor = 'k',\n",
        "           edgecolor = 'k')\n",
        "plt.imshow(wordcloud_estados, interpolation='none')\n",
        "plt.axis('off')\n",
        "plt.tight_layout(pad=0)\n",
        "plt.savefig(\"Estados_wordcloud.png\")\n",
        "plt.show()"
      ],
      "execution_count": null,
      "outputs": []
    },
    {
      "cell_type": "markdown",
      "metadata": {
        "id": "LZkTAJJ-9qeM"
      },
      "source": [
        "# Verificar as reclamações por serviço"
      ]
    },
    {
      "cell_type": "code",
      "metadata": {
        "id": "UEtwyaVV9lbj"
      },
      "source": [
        "data.groupby(\"serviço\").size().sort_values(ascending=False)"
      ],
      "execution_count": null,
      "outputs": []
    },
    {
      "cell_type": "code",
      "metadata": {
        "id": "vDyQIqst97ei"
      },
      "source": [
        "data.groupby(\"serviço\").size().sort_values(ascending=False)[:40].plot(figsize=(10,10),kind='barh')"
      ],
      "execution_count": null,
      "outputs": []
    },
    {
      "cell_type": "code",
      "metadata": {
        "id": "4EyL3GVK-00m"
      },
      "source": [
        "# Criação de dataframe com a coluna Serviço\n",
        "df_serviço = pd.DataFrame()\n",
        "df_serviço['serviço'] = data['serviço']"
      ],
      "execution_count": null,
      "outputs": []
    },
    {
      "cell_type": "code",
      "metadata": {
        "id": "4TKe4PIuAZbk"
      },
      "source": [
        "dicionario = {' s/a':'',' s.a':'',' ltda':'',' CEF':'',\\\n",
        "              ' ':'_','/':'',',':'','\\(':'','\\)':'',\"-\":'','\\.':'',r\"^\\t\":'',\\\n",
        "              '_sa$':'','\\.':'','/':' '}\n",
        "df_serviço = df_serviço.replace({'serviço': dicionario},regex=True)"
      ],
      "execution_count": null,
      "outputs": []
    },
    {
      "cell_type": "code",
      "metadata": {
        "id": "dYYtfCq4BW_r"
      },
      "source": [
        "df_serviço.groupby(\"serviço\").size().sort_values(ascending=False)[:40].plot(figsize=(10,10),kind='barh')"
      ],
      "execution_count": null,
      "outputs": []
    },
    {
      "cell_type": "code",
      "metadata": {
        "id": "96VH47Lh_C3i"
      },
      "source": [
        "# Criação de uma string única com todas as ocorrências dos estados\n",
        "string_serviços = \" \".join(text for text in df_serviço.serviço)"
      ],
      "execution_count": null,
      "outputs": []
    },
    {
      "cell_type": "code",
      "metadata": {
        "id": "lauwMrAx_OMC"
      },
      "source": [
        "# Importação da imagem a ser usada na Nuvem de Palavras\n",
        "Diretorio_arquivo = \"/content/BandeiraBrasil.png\"\n",
        "Serviço_mask = np.array(Image.open(Diretorio_arquivo))"
      ],
      "execution_count": null,
      "outputs": []
    },
    {
      "cell_type": "code",
      "metadata": {
        "id": "gSj6Ekpx_W0Z"
      },
      "source": [
        "# Geração da Nuvem de Palavras por Serviço\n",
        "wordcloud_serviços = WordCloud(background_color=\"black\",collocations=False,\n",
        "                              colormap=\"Oranges_r\",\n",
        "                              width = 3000,\n",
        "                              height = 2000,\n",
        "                              max_font_size=1000,\n",
        "                              max_words=100\n",
        "                             ).generate(string_serviços)\n",
        "plt.figure(figsize = (40,30),\n",
        "           facecolor = 'k',\n",
        "           edgecolor = 'k')\n",
        "plt.imshow(wordcloud_serviços, interpolation='bilinear')\n",
        "plt.axis('off')\n",
        "plt.tight_layout(pad=0)\n",
        "plt.savefig(\"Serviço_wordcloud_100.png\")\n",
        "plt.show()"
      ],
      "execution_count": null,
      "outputs": []
    },
    {
      "cell_type": "markdown",
      "metadata": {
        "id": "zVGx3r9gy8G_"
      },
      "source": [
        "# Tratamento das empresas"
      ]
    },
    {
      "cell_type": "code",
      "metadata": {
        "id": "pi_zoaGPD3fv"
      },
      "source": [
        "data.groupby(\"empresa\").size().sort_values(ascending=False)"
      ],
      "execution_count": null,
      "outputs": []
    },
    {
      "cell_type": "code",
      "metadata": {
        "id": "1iIIgUU0EIQ3"
      },
      "source": [
        "data.groupby(\"empresa\").size().sort_values(ascending=False)[:45].plot(figsize=(10,10),kind='bar')"
      ],
      "execution_count": null,
      "outputs": []
    },
    {
      "cell_type": "code",
      "metadata": {
        "id": "DoMqUhEFEu79"
      },
      "source": [
        "# Criação de dataframe com a coluna Estado\n",
        "df_empresa = pd.DataFrame()\n",
        "df_empresa['empresa'] = data['empresa'].str.lower()"
      ],
      "execution_count": null,
      "outputs": []
    },
    {
      "cell_type": "markdown",
      "metadata": {
        "id": "MPidXtD4y8HD"
      },
      "source": [
        "### Verificação se há algum \"null\""
      ]
    },
    {
      "cell_type": "code",
      "metadata": {
        "id": "SlRj-rBWy8HE"
      },
      "source": [
        "df_empresa.isnull().sum()"
      ],
      "execution_count": null,
      "outputs": []
    },
    {
      "cell_type": "markdown",
      "metadata": {
        "id": "t9Ytt2Cny8HG"
      },
      "source": [
        "### Remoção dos \"nulls\" encontrados"
      ]
    },
    {
      "cell_type": "code",
      "metadata": {
        "id": "hKRE_6oOy8HH"
      },
      "source": [
        "df_empresa.dropna(inplace=True)\n",
        "df_empresa.isnull().sum()"
      ],
      "execution_count": null,
      "outputs": []
    },
    {
      "cell_type": "code",
      "metadata": {
        "id": "POEKpLCmFQom"
      },
      "source": [
        "# Ajuste das descrições das empresas\n",
        "dicionario = {' s/a':'',' s.a':'',' ltda':'',' CEF':'',\\\n",
        "              ' ':'_','/':'',',':'','\\(':'','\\)':'',\"-\":'','\\.':'',r\"^\\t\":'',\\\n",
        "              '_sa$':'','\\.':'','/':' '}\n",
        "df_empresa = df_empresa.replace({'empresa': dicionario},regex=True)"
      ],
      "execution_count": null,
      "outputs": []
    },
    {
      "cell_type": "code",
      "metadata": {
        "id": "aCvNSGhnG36P"
      },
      "source": [
        "df_empresa = df_empresa.replace({'empresa': dicionario},regex=True)"
      ],
      "execution_count": null,
      "outputs": []
    },
    {
      "cell_type": "code",
      "metadata": {
        "id": "Z_18asFwy8Hb"
      },
      "source": [
        "# Criação de uma string única com todas as ocorrências das empresas\n",
        "string_empresas = \" \".join(str(text) for text in df_empresa.empresa)"
      ],
      "execution_count": null,
      "outputs": []
    },
    {
      "cell_type": "markdown",
      "metadata": {
        "id": "wC0QZPj7y8Hf"
      },
      "source": [
        "### Geração do wordcloud das 40 empresas mais reclamadas"
      ]
    },
    {
      "cell_type": "code",
      "metadata": {
        "id": "TYNEKyfUm4zb"
      },
      "source": [
        "# Importação da imagem a ser usada na Nuvem de Palavras\n",
        "Diretorio_arquivo = \"/content/BandeiraBrasil.png\"\n",
        "Empresa_mask = np.array(Image.open(Diretorio_arquivo))"
      ],
      "execution_count": null,
      "outputs": []
    },
    {
      "cell_type": "code",
      "metadata": {
        "id": "rIVr2fthy8Hg"
      },
      "source": [
        "wordcloud_empresas = WordCloud(background_color=\"white\",collocations=False,\n",
        "                              width = 3000,\n",
        "                              height = 3000,\n",
        "                              max_font_size=1000,\n",
        "                              max_words=400\n",
        "                               ,mask=Empresa_mask\n",
        "                             ,contour_color='#5d0f24'\n",
        "                             ,contour_width=1\n",
        "                              ).generate(string_empresas)\n",
        "plt.figure(figsize = (40,30),\n",
        "           facecolor = 'k',\n",
        "           edgecolor = 'k')\n",
        "plt.imshow(wordcloud_empresas, interpolation='bilinear')\n",
        "plt.axis('off')\n",
        "plt.tight_layout(pad=0)\n",
        "plt.savefig(\"Empresa_wordcloud_40.png\")\n",
        "plt.show()"
      ],
      "execution_count": null,
      "outputs": []
    },
    {
      "cell_type": "code",
      "metadata": {
        "id": "wBxrGN6Pi414"
      },
      "source": [
        ""
      ],
      "execution_count": null,
      "outputs": []
    },
    {
      "cell_type": "code",
      "metadata": {
        "id": "4Dra8SB2QFYr"
      },
      "source": [
        "data.groupby(\"empresa\").size().sort_values(ascending=False)"
      ],
      "execution_count": null,
      "outputs": []
    },
    {
      "cell_type": "code",
      "metadata": {
        "id": "mtcLl1vvQMoi"
      },
      "source": [
        "df_empresa.groupby(\"empresa\").size().sort_values(ascending=False)"
      ],
      "execution_count": null,
      "outputs": []
    },
    {
      "cell_type": "code",
      "metadata": {
        "id": "Gk0mR2uNy8Jg"
      },
      "source": [
        "#Gráfico das 40 empresas com mais reclamações \n",
        "df_empresa.groupby('empresa').size().sort_values(ascending=False)[:40].plot(figsize=(10,10),kind='barh')"
      ],
      "execution_count": null,
      "outputs": []
    }
  ]
}