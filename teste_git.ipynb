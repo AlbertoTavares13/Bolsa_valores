{
  "nbformat": 4,
  "nbformat_minor": 0,
  "metadata": {
    "colab": {
      "name": "teste_git.ipynb",
      "provenance": [],
      "authorship_tag": "ABX9TyOto8lQTN2J5qlkr73RnuaV",
      "include_colab_link": true
    },
    "kernelspec": {
      "name": "python3",
      "display_name": "Python 3"
    },
    "language_info": {
      "name": "python"
    }
  },
  "cells": [
    {
      "cell_type": "markdown",
      "metadata": {
        "id": "view-in-github",
        "colab_type": "text"
      },
      "source": [
        "<a href=\"https://colab.research.google.com/github/AlbertoTavares13/Bolsa_valores/blob/main/teste_git.ipynb\" target=\"_parent\"><img src=\"https://colab.research.google.com/assets/colab-badge.svg\" alt=\"Open In Colab\"/></a>"
      ]
    },
    {
      "cell_type": "code",
      "metadata": {
        "colab": {
          "base_uri": "https://localhost:8080/"
        },
        "id": "9q6Kt4VyM7KM",
        "outputId": "45b2429e-af71-4761-cf2a-237895ee621b"
      },
      "source": [
        "print('Olá, mundo!')"
      ],
      "execution_count": 1,
      "outputs": [
        {
          "output_type": "stream",
          "name": "stdout",
          "text": [
            "Olá, mundo!\n"
          ]
        }
      ]
    }
  ]
}