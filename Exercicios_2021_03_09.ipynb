{
  "nbformat": 4,
  "nbformat_minor": 0,
  "metadata": {
    "colab": {
      "name": "Exercicios_2021.03.09.ipynb",
      "provenance": [],
      "collapsed_sections": [],
      "authorship_tag": "ABX9TyNTEYsNetsY1QZj3JXELB7q"
    },
    "kernelspec": {
      "name": "python3",
      "display_name": "Python 3"
    }
  },
  "cells": [
    {
      "cell_type": "markdown",
      "metadata": {
        "id": "4gEKLABr6_O6"
      },
      "source": [
        "Exercícios Estruturas Condicionais"
      ]
    },
    {
      "cell_type": "markdown",
      "metadata": {
        "id": "CPGhfdTX7QJL"
      },
      "source": [
        "(1) Inocente / Suspeito / Cúmplice / Culpado"
      ]
    },
    {
      "cell_type": "code",
      "metadata": {
        "id": "kDOxHQ95638i"
      },
      "source": [
        "contador_sim = 0\n",
        "print('Responda as perguntas a seguir com s (para sim) ou n (para não):')\n",
        "resposta1 = input('Telefonou para a vítima? ')\n",
        "resposta2 = input('Esteve no local do crime? ')\n",
        "resposta3 = input('Mora perto da vítima? ')\n",
        "resposta4 = input('Devia para a vítima? ')\n",
        "resposta5 = input('Já trabalhou com a vítima? ')"
      ],
      "execution_count": null,
      "outputs": []
    },
    {
      "cell_type": "code",
      "metadata": {
        "id": "nBRrwt9sARW8"
      },
      "source": [
        "if resposta1 == 's':\n",
        "   contador_sim = 1\n",
        "if resposta2 == 's':\n",
        "   contador_sim = contador_sim + 1  \n",
        "if resposta2 == 's':\n",
        "   contador_sim = contador_sim + 1   \n",
        "if resposta4 == 's':\n",
        "   contador_sim = contador_sim + 1  \n",
        "if resposta5 == 's':\n",
        "   contador_sim = contador_sim + 1   "
      ],
      "execution_count": null,
      "outputs": []
    },
    {
      "cell_type": "code",
      "metadata": {
        "id": "jXB8ZFyVBCsq"
      },
      "source": [
        "if contador_sim < 1:\n",
        "    print('Você é inocente')\n",
        "elif contador_sim == 2:\n",
        "    print('Você é suspeito')\n",
        "elif contador_sim in (3, 4):\n",
        "    print('Você é cúmplice')\n",
        "elif contador_sim == 5:\n",
        "    print('Você é culpado')"
      ],
      "execution_count": null,
      "outputs": []
    },
    {
      "cell_type": "markdown",
      "metadata": {
        "id": "w5QA0XE6tBa8"
      },
      "source": [
        "(2) Álcool ou Gasolina"
      ]
    },
    {
      "cell_type": "code",
      "metadata": {
        "colab": {
          "base_uri": "https://localhost:8080/"
        },
        "id": "M819EmwptIWq",
        "outputId": "f233d4de-2ea0-4252-8665-0946fe85b7f6"
      },
      "source": [
        "###  Álcool\n",
        "###  até 20 litros, descomto de 3% por litro\n",
        "###  acima de 20 litros, desconto de 5% por litro\n",
        "###\n",
        "###  Gasolina\n",
        "###  até 20 litros, desconto de 4% por litro\n",
        "###  acima de 20 litros, desonto de 6% por litro\n",
        "\n",
        "preco_gasolina = 2.5\n",
        "preco_alcool = 1.90\n",
        "valor_a_ser_pago = 0\n",
        "\n",
        "tipo_combustivel = input('Insira o combustível, A para álcool ou G para gasolina: ')\n",
        "litros_vendidos = input('Insira a quantidade de litros vendidos: ')\n",
        "\n",
        "if tipo_combustivel == 'A':\n",
        "    if int(litros_vendidos) <= 20:\n",
        "        valor_a_ser_pago = int(litros_vendidos) * preco_alcool * 0.97\n",
        "    else: \n",
        "        valor_a_ser_pago = int(litros_vendidos) * preco_alcool * 0.95\n",
        "elif tipo_combustivel == 'G':\n",
        "        if int(litros_vendidos) <= 20:\n",
        "            valor_a_ser_pago = int(litros_vendidos) * preco_gasolina * 0.96\n",
        "        else:\n",
        "            valor_a_ser_pago = int(litros_vendidos) * preco_gasolina * 0.94\n",
        "else:\n",
        "    print('Combustível inválido')\n",
        "\n",
        "if tipo_combustivel in ('A', 'G'):\n",
        "    print('Valor a pagar é: ', end = '')\n",
        "    print(valor_a_ser_pago)\n"
      ],
      "execution_count": 80,
      "outputs": [
        {
          "output_type": "stream",
          "text": [
            "Insira o combustível, A para álcool ou G para gasolina: A\n",
            "Insira a quantidade de litros vendidos: 10\n",
            "Valor a pagar é: 18.43\n"
          ],
          "name": "stdout"
        }
      ]
    },
    {
      "cell_type": "markdown",
      "metadata": {
        "id": "QqITE2G_5h39"
      },
      "source": [
        "(3) Raízes de uma equação de segundo grau"
      ]
    },
    {
      "cell_type": "code",
      "metadata": {
        "id": "sG9RAWSRCLXV"
      },
      "source": [
        "import math ### para a raiz quadrada"
      ],
      "execution_count": 57,
      "outputs": []
    },
    {
      "cell_type": "code",
      "metadata": {
        "colab": {
          "base_uri": "https://localhost:8080/"
        },
        "id": "wltH5WSc5yNo",
        "outputId": "6cc3e9c8-6936-4d55-ae4d-caa3d62cd171"
      },
      "source": [
        "print('Para uma equação ax2 + bx + c = 0, insira os valores de a, b e c')"
      ],
      "execution_count": 58,
      "outputs": [
        {
          "output_type": "stream",
          "text": [
            "Para uma equação ax2 + bx + c = 0, insira os valores de a, b e c\n"
          ],
          "name": "stdout"
        }
      ]
    },
    {
      "cell_type": "code",
      "metadata": {
        "id": "muW1Gnm57apn"
      },
      "source": [
        "###  P/ pedir os tres valores de uma vez:\n",
        "###  a, b, c = input('Informe os 3 números separados por espaço: ').split(\" \")"
      ],
      "execution_count": 59,
      "outputs": []
    },
    {
      "cell_type": "code",
      "metadata": {
        "id": "wVX2Rg5-82U3"
      },
      "source": [
        "a = input('Insira o valor de a: ')\n",
        "\n",
        "### testa se A = 0, caso da equação não ser do segundo grau\n",
        "if a == '0':\n",
        "    print('Neste caso, a equação não é de 2o grau ')\n",
        "else:\n",
        "    b = input('Insira o valor de b: ')\n",
        "    c = input('Insira o valor de c: ')\n",
        "\n",
        "    a = int(a)\n",
        "    b = int(b)\n",
        "    c = int(c)\n",
        "\n",
        "    ### Calculo de Delta\n",
        "    delta = b**2 - 4 * a * c\n",
        "    if delta == 0:\n",
        "        raiz1 = -b / (2 * a)\n",
        "        print('A raiz da equação é: ')\n",
        "        print(raiz1)\n",
        "    elif delta > 0:\n",
        "        raiz1 = (-b + math.sqrt(delta))/(2 * a)\n",
        "        raiz2 = (-b - math.sqrt(delta))/(2 * a)\n",
        "        print('As raízes da equação são:')\n",
        "        print(raiz1)\n",
        "        print(raiz2)\n",
        "    else:\n",
        "        print('A equação não possui raízes reais')    "
      ],
      "execution_count": null,
      "outputs": []
    },
    {
      "cell_type": "markdown",
      "metadata": {
        "id": "Vf0MNjc1F6dL"
      },
      "source": [
        "Exercícios Repetições\n"
      ]
    },
    {
      "cell_type": "markdown",
      "metadata": {
        "id": "6TzeGy0WGCQD"
      },
      "source": [
        "(1) Impressão de números (1 a 20), um abaixo do outro e lado a lado"
      ]
    },
    {
      "cell_type": "code",
      "metadata": {
        "id": "lp8BA69xGqg_"
      },
      "source": [
        "### Impressão um abaio do outro\n",
        "cont = 1\n",
        "while cont <= 20:\n",
        "    print(cont)\n",
        "    cont = cont + 1"
      ],
      "execution_count": null,
      "outputs": []
    },
    {
      "cell_type": "code",
      "metadata": {
        "id": "RDXYs-tJIZBL"
      },
      "source": [
        "### Impressão um ao lado do outro\n",
        "cont = 1\n",
        "while cont <= 20:\n",
        "    print(cont, end=' ')\n",
        "    cont = cont + 1"
      ],
      "execution_count": null,
      "outputs": []
    },
    {
      "cell_type": "markdown",
      "metadata": {
        "id": "Zr-Mf1XwJ3oD"
      },
      "source": [
        "(2) Impressão dos números ímpares de 1 a n, n informado pelo usuário"
      ]
    },
    {
      "cell_type": "code",
      "metadata": {
        "id": "uGaPEoAJKBuM"
      },
      "source": [
        "cont = 1\n",
        "n = int(input('Insira o número limite (maior que zero): '))\n",
        "while cont <= n:\n",
        "    if cont % 2 != 0:\n",
        "        print(cont, end=' ')\n",
        "    cont = cont + 1"
      ],
      "execution_count": null,
      "outputs": []
    },
    {
      "cell_type": "markdown",
      "metadata": {
        "id": "rDXouCgBMUtg"
      },
      "source": [
        "(3) Receber 2 nros quaisquer e imprimir na tela os nros inteiros no intervalo entre eles"
      ]
    },
    {
      "cell_type": "code",
      "metadata": {
        "id": "ZlvVpwmdMrMI"
      },
      "source": [
        "a = float(input('Entre o número inicial: '))\n",
        "b = float(input('Entre o número final: '))"
      ],
      "execution_count": null,
      "outputs": []
    },
    {
      "cell_type": "code",
      "metadata": {
        "id": "fSQnhAO6NRqw"
      },
      "source": [
        "inicio = int(a+1)\n",
        "fim = int(b)\n",
        "while inicio < fim:\n",
        "    print(inicio, end = ' ')\n",
        "    inicio = inicio +1"
      ],
      "execution_count": null,
      "outputs": []
    },
    {
      "cell_type": "markdown",
      "metadata": {
        "id": "txqKgQHjOVPD"
      },
      "source": [
        "(4) Execício equivalente ao (1)"
      ]
    },
    {
      "cell_type": "markdown",
      "metadata": {
        "id": "hOBcquA8Ofz1"
      },
      "source": [
        "(5) Ler uma quantidade inderteminada de números e contar quantos deles estão nos intervalos [0-25], [26-50], [51-75] e [76-100]"
      ]
    },
    {
      "cell_type": "code",
      "metadata": {
        "id": "OTrkBI_fSoVa"
      },
      "source": [
        "num = 0\n",
        "cont1 = 0\n",
        "cont2 = 0\n",
        "cont3 = 0\n",
        "cont4 = 0\n",
        "while num >= 0:\n",
        "    num = int(input('Entre com um número (número negativo encerra o programa): '))\n",
        "    if   num >=  0 and num <=  25:\n",
        "        cont1 = cont1 + 1\n",
        "    elif num >= 26 and num <=  50:\n",
        "        cont2 = cont2 + 1\n",
        "    elif num >= 51 and num <=  75:\n",
        "        cont3 = cont3 + 1\n",
        "    elif num >= 76 and num <= 100:\n",
        "        cont4 = cont4 + 1 \n",
        "print('Foram digitados ',  cont1 , 'números no intervalo de [ 0- 25]')   \n",
        "print('Foram digitados ',  cont2 , 'números no intervalo de [26- 50]')    \n",
        "print('Foram digitados ',  cont3 , 'números no intervalo de [51- 75]') \n",
        "print('Foram digitados ',  cont4 , 'números no intervalo de [76-100]') \n"
      ],
      "execution_count": null,
      "outputs": []
    },
    {
      "cell_type": "markdown",
      "metadata": {
        "id": "8XHTSCgvYa__"
      },
      "source": [
        "(6) Notas dos alunos"
      ]
    },
    {
      "cell_type": "code",
      "metadata": {
        "id": "A5oxBJM4cwY7"
      },
      "source": [
        "tem_aluno = 'S'\n",
        "gabarito = ['a', 'b', 'c', 'd', 'e', 'a', 'b', 'c', 'd', 'e']\n",
        "i = 0\n",
        "acertos = 0\n",
        "nota = 0\n",
        "nota_maxima = 0\n",
        "nota_minima = 11\n",
        "qtd_alunos = 0\n",
        "somatorio_notas = 0\n",
        "\n",
        "while tem_aluno == 'S':\n",
        "    resposta = input('Insira suas 10 respostas separadas por espaço ').split(\" \")\n",
        "    while i < 10:\n",
        "        if resposta[i] == gabarito[i]:\n",
        "             acertos = acertos + 1\n",
        "        i = i+1\n",
        "    nota = acertos\n",
        "    acertos = 0\n",
        "    i = 0\n",
        "    if nota > nota_maxima: nota_maxima = nota\n",
        "    if nota < nota_minima: nota_minima = nota\n",
        "    qtd_alunos = qtd_alunos + 1\n",
        "    somatorio_notas = somatorio_notas + nota        \n",
        "    tem_aluno = input('Ainda tem mais aluno? (S/N)')\n",
        "\n",
        "media_notas = somatorio_notas / qtd_alunos\n",
        "\n",
        "print('')\n",
        "print('Maior Acerto', nota_maxima)     \n",
        "print('Menor Acerto', nota_minima)     \n",
        "print('Número de alunos', qtd_alunos)\n",
        "print('Somatório das notas', somatorio_notas)\n",
        "print('Média das notas da turma', media_notas)"
      ],
      "execution_count": null,
      "outputs": []
    }
  ]
}